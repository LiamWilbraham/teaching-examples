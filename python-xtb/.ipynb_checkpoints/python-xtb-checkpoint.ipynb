{
 "cells": [
  {
   "cell_type": "markdown",
   "metadata": {},
   "source": [
    "# Running xtb calculations in python"
   ]
  },
  {
   "cell_type": "markdown",
   "metadata": {},
   "source": [
    "## Set the environment variables"
   ]
  },
  {
   "cell_type": "code",
   "execution_count": 7,
   "metadata": {},
   "outputs": [
    {
     "name": "stdout",
     "output_type": "stream",
     "text": [
      "env: XTBHOME=/home/liam/software/XTB\n",
      "env: OMP_NUM_THREADS=8\n",
      "env: MLK_NUM_THREADS=8\n"
     ]
    }
   ],
   "source": [
    "'''\n",
    "If you are running a python program fro mthe command line which calls xtb, you should set the environment #\n",
    "variables on the command line before doing so.\n",
    "\n",
    "If using a jupyter notebook, you can use the magic command %env\n",
    "'''\n",
    "\n",
    "# first we set the path to xtb, then the number of procs that it can use\n",
    "%env XTBHOME=/home/liam/software/XTB\n",
    "%env OMP_NUM_THREADS=8\n",
    "%env MLK_NUM_THREADS=8 "
   ]
  },
  {
   "cell_type": "markdown",
   "metadata": {},
   "source": [
    "## Define a function to perform the geometry optimisation with xtb"
   ]
  },
  {
   "cell_type": "code",
   "execution_count": 13,
   "metadata": {},
   "outputs": [
    {
     "data": {
      "text/plain": [
       "-119.7578212"
      ]
     },
     "execution_count": 13,
     "metadata": {},
     "output_type": "execute_result"
    }
   ],
   "source": [
    "'''\n",
    "We will use the subprocess library to run commands (note: NOT os.system()). in principle os.system() would \n",
    "work but we should avoid using it because:\n",
    "    1. it will eventually be deprecated in favour of subprocess in new python versions\n",
    "    2. subprocess is more flexible and can do more things (even if it is slightly more complex)\n",
    "    \n",
    "Naturally, the following can be done with any of the xtb programs (including stda) and indeed\n",
    "anything else like it.\n",
    "'''\n",
    "\n",
    "import subprocess as sp \n",
    "import shutil # we will use this one to copy files\n",
    "\n",
    "# the following function performs an xtb optimisation on a structure and returns the ground state energy\n",
    "def xtb_opt(filename):\n",
    "\n",
    "    molfile = '{}.mol'.format(filename)  # xtb cannot read *.mol, so we convert it to *.xyz with openbabel (http://openbabel.org/wiki/Main_Page)\n",
    "    xyzfile = '{}.xyz'.format(filename)\n",
    "    sp.call(['babel', molfile, xyzfile]) #  this is one way of using subprocess (sp.call([list of args]))\n",
    "\n",
    "    # Optimise, extract total & solv. energy\n",
    "    calc_params = ['xtb', xyzfile, '-opt'] # I think it is neater to make a parameter list first\n",
    "    p = sp.Popen(calc_params, stdout=sp.PIPE, encoding='utf8') # this sets up the command and what to do with its stderr and stout\n",
    "    output, _ = p.communicate() # this runs the command and puts its stdout into the 'output' variable and stderr into the '_' variable\n",
    "    \n",
    "    E_xtb  = output[-900:-100].split()[29] # here we jus split up the last part of the output and pull out the energy\n",
    "\n",
    "    shutil.copy('xtbopt.xyz', '{}-opt.xyz'.format(filename)) # lastly copy xtb optimised geometry to named file\n",
    "\n",
    "    return float(E_xtb)\n",
    "\n",
    "xtb_opt('copolymer')"
   ]
  },
  {
   "cell_type": "code",
   "execution_count": null,
   "metadata": {
    "collapsed": true
   },
   "outputs": [],
   "source": []
  }
 ],
 "metadata": {
  "kernelspec": {
   "display_name": "Python 3",
   "language": "python",
   "name": "python3"
  },
  "language_info": {
   "codemirror_mode": {
    "name": "ipython",
    "version": 3
   },
   "file_extension": ".py",
   "mimetype": "text/x-python",
   "name": "python",
   "nbconvert_exporter": "python",
   "pygments_lexer": "ipython3",
   "version": "3.6.2"
  }
 },
 "nbformat": 4,
 "nbformat_minor": 2
}
