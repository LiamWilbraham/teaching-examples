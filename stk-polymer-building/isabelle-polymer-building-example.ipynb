{
 "cells": [
  {
   "cell_type": "markdown",
   "metadata": {},
   "source": [
    "### Building polymers with the supramolecular tooklit (stk)"
   ]
  },
  {
   "cell_type": "code",
   "execution_count": 6,
   "metadata": {
    "collapsed": true
   },
   "outputs": [],
   "source": [
    "import stk\n",
    "import rdkit, rdkit.Chem as rdkit"
   ]
  },
  {
   "cell_type": "code",
   "execution_count": 7,
   "metadata": {},
   "outputs": [],
   "source": [
    "a = rdkit.MolFromSmiles('Brc1ccc(Br)cc1')\n",
    "rdkit.AddHs(a)\n",
    "rdkit.AllChem.EmbedMolecule(a, rdkit.AllChem.ETKDG())\n",
    "\n",
    "b = rdkit.MolFromSmiles('Brc1ccc(Br)nc1')\n",
    "rdkit.AddHs(b)\n",
    "rdkit.AllChem.EmbedMolecule(b, rdkit.AllChem.ETKDG())\n",
    "\n",
    "A = stk.StructUnit2.rdkit_init(a, 'bromine')\n",
    "B = stk.StructUnit2.rdkit_init(b, 'bromine')\n",
    "\n",
    "polymer = stk.Polymer([A, B], stk.Linear(\"AB\", [0, 0], n=8))\n",
    "\n",
    "stk.rdkit_ETKDG(polymer)\n",
    "\n",
    "polymer.write('isabelle-test.mol')"
   ]
  },
  {
   "cell_type": "markdown",
   "metadata": {},
   "source": [
    "### Now for a homopolymer"
   ]
  },
  {
   "cell_type": "code",
   "execution_count": 26,
   "metadata": {},
   "outputs": [],
   "source": [
    "a = rdkit.MolFromSmiles('Brc1cnc(Br)cn1')\n",
    "rdkit.AddHs(a)\n",
    "rdkit.AllChem.EmbedMolecule(a, rdkit.AllChem.ETKDG())\n",
    "\n",
    "A = stk.StructUnit2.rdkit_init(a, 'bromine')\n",
    "\n",
    "polymer = stk.Polymer([A], stk.Linear(\"A\", [0], n=8))\n",
    "\n",
    "stk.rdkit_ETKDG(polymer)\n",
    "\n",
    "polymer.write('isabelle-test.mol')"
   ]
  },
  {
   "cell_type": "markdown",
   "metadata": {},
   "source": [
    "### Performing a conformer search"
   ]
  },
  {
   "cell_type": "code",
   "execution_count": 30,
   "metadata": {
    "collapsed": true
   },
   "outputs": [],
   "source": [
    "def conformer_search(mol, nconfs):\n",
    "    \n",
    "    confs = rdkit.AllChem.EmbedMultipleConfs(mol, nconfs, rdkit.AllChem.ETKDG())\n",
    "    rdkit.SanitizeMol(mol)    \n",
    "    \n",
    "    lowest_energy = 1000000000\n",
    "    for conf in confs:\n",
    "        ff = rdkit.AllChem.MMFFGetMoleculeForceField(mol, rdkit.AllChem.MMFFGetMoleculeProperties(mol), confId=conf)\n",
    "        ff.Initialize()\n",
    "        energy = ff.CalcEnergy()\n",
    "    \n",
    "        if energy < lowest_energy:\n",
    "            lowest_energy = energy\n",
    "            lowest_conf = conf\n",
    "            print('conformer:', conf, 'energy:', energy)\n",
    "    \n",
    "    rdkit.MolToMolFile(mol, 'conformer-search-output.mol', confId=lowest_conf)"
   ]
  },
  {
   "cell_type": "code",
   "execution_count": 33,
   "metadata": {},
   "outputs": [
    {
     "name": "stdout",
     "output_type": "stream",
     "text": [
      "conformer: 0 energy: 1099.7067183249192\n",
      "conformer: 1 energy: 682.2948909587814\n",
      "conformer: 2 energy: 671.9964287187922\n",
      "conformer: 5 energy: 671.8715171388501\n",
      "conformer: 7 energy: 667.6413661864127\n",
      "conformer: 16 energy: 637.9260740714606\n",
      "conformer: 61 energy: 637.1064687072724\n"
     ]
    }
   ],
   "source": [
    "conformer_search(polymer.mol, 100)"
   ]
  },
  {
   "cell_type": "markdown",
   "metadata": {},
   "source": [
    "### Wrapping polymer building into a function"
   ]
  },
  {
   "cell_type": "code",
   "execution_count": 40,
   "metadata": {
    "collapsed": true
   },
   "outputs": [],
   "source": [
    "def build_polymer(smiles1, smiles2):\n",
    "    \n",
    "    a = rdkit.MolFromSmiles(smiles1)\n",
    "    rdkit.AddHs(a)\n",
    "    rdkit.AllChem.EmbedMolecule(a, rdkit.AllChem.ETKDG())\n",
    "\n",
    "    b = rdkit.MolFromSmiles(smiles2)\n",
    "    rdkit.AddHs(b)\n",
    "    rdkit.AllChem.EmbedMolecule(b, rdkit.AllChem.ETKDG())\n",
    "\n",
    "    A = stk.StructUnit2.rdkit_init(a, 'bromine')\n",
    "    B = stk.StructUnit2.rdkit_init(b, 'bromine')\n",
    "\n",
    "    polymer = stk.Polymer([A, B], stk.Linear(\"AB\", [0, 0], n=4))\n",
    "\n",
    "    stk.rdkit_ETKDG(polymer)\n",
    "\n",
    "    polymer.write('isabelle-test.mol')\n",
    "    \n",
    "    return polymer"
   ]
  },
  {
   "cell_type": "code",
   "execution_count": 41,
   "metadata": {},
   "outputs": [
    {
     "data": {
      "text/plain": [
       "Polymer(building_blocks=[\"StructUnit2 ['bromine', 'InChI=1S/C6H4Br2/c7-5-1-2-6(8)4-3-5/h1-4H']\", \"StructUnit2 ['bromine', 'InChI=1S/C6H4Br2/c7-5-1-2-6(8)4-3-5/h1-4H']\"], topology=Linear(ends='h', n=4, orientation=[0, 0], repeating_unit='AB'))"
      ]
     },
     "execution_count": 41,
     "metadata": {},
     "output_type": "execute_result"
    }
   ],
   "source": [
    "build_polymer('Brc1ccc(Br)cc1', 'Brc1ccc(Br)cc1')"
   ]
  },
  {
   "cell_type": "code",
   "execution_count": null,
   "metadata": {
    "collapsed": true
   },
   "outputs": [],
   "source": []
  }
 ],
 "metadata": {
  "kernelspec": {
   "display_name": "Python 3",
   "language": "python",
   "name": "python3"
  },
  "language_info": {
   "codemirror_mode": {
    "name": "ipython",
    "version": 3
   },
   "file_extension": ".py",
   "mimetype": "text/x-python",
   "name": "python",
   "nbconvert_exporter": "python",
   "pygments_lexer": "ipython3",
   "version": "3.6.2"
  }
 },
 "nbformat": 4,
 "nbformat_minor": 2
}
