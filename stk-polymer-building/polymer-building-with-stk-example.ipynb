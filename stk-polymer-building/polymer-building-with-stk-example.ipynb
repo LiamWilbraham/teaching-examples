{
 "cells": [
  {
   "cell_type": "markdown",
   "metadata": {},
   "source": [
    "### Building polymers with the supramolecular tooklit (stk)"
   ]
  },
  {
   "cell_type": "code",
   "execution_count": 1,
   "metadata": {
    "collapsed": true
   },
   "outputs": [],
   "source": [
    "import stk\n",
    "import rdkit, rdkit.Chem as rdkit"
   ]
  },
  {
   "cell_type": "markdown",
   "metadata": {},
   "source": [
    "## 1. Building a co-polymer"
   ]
  },
  {
   "cell_type": "code",
   "execution_count": 2,
   "metadata": {
    "collapsed": true
   },
   "outputs": [],
   "source": [
    "'''\n",
    "stk is a supramolecular buildier which takes building blocks and can join them \n",
    "together to form supramolecular structures with different topologies.\n",
    "In our case, we are going to build polymers (i.e. a supramolecules with a 'linear' topology).\n",
    "To do so, we will need to provide information about our building blocs (a, b) and the polymer\n",
    "characteristics (length, sequence etc.)\n",
    "'''\n",
    "\n",
    "# specifying the building blocks a and b using rdkit directly from smiles strings\n",
    "a = rdkit.MolFromSmiles('Brc1ccc(Br)cc1')\n",
    "rdkit.AddHs(a)\n",
    "rdkit.AllChem.EmbedMolecule(a, rdkit.AllChem.ETKDG())\n",
    "\n",
    "b = rdkit.MolFromSmiles('Brc1ccc(Br)nc1')\n",
    "rdkit.AddHs(b)\n",
    "rdkit.AllChem.EmbedMolecule(b, rdkit.AllChem.ETKDG())\n",
    "\n",
    "# convert our rdkit 'mol' objects to stk 'StructUnit2' objects (stk can only regognise these when building)\n",
    "A = stk.StructUnit2.rdkit_init(a, 'bromine')\n",
    "B = stk.StructUnit2.rdkit_init(b, 'bromine')\n",
    "\n",
    "# with our StructUnit2s in hand, we can now build the polymer.\n",
    "# Here, we habe 2 building blocks (A, B), a repeat unit sequence \"AB\" and a length of 8 repeat units.\n",
    "polymer = stk.Polymer([A, B], stk.Linear(\"AB\", [0, 0], n=8))\n",
    "# the list [0, 0] indicates the orientation of each building block (important if one is asymmetric)\n",
    "\n",
    "# the 'polymer' we created above now only has a rough gemoetry, we can clean that up using the\n",
    "# ETKDG method for structural optimisation/embedding within rdkit\n",
    "stk.rdkit_ETKDG(polymer)\n",
    "\n",
    "# lastly we write our new polymer structure to a '*.mol' file (you can use avogadro to look at this)\n",
    "polymer.write('isabelle-test.mol')"
   ]
  },
  {
   "cell_type": "markdown",
   "metadata": {},
   "source": [
    "## 2. Building a homopolymer"
   ]
  },
  {
   "cell_type": "code",
   "execution_count": 3,
   "metadata": {
    "collapsed": true
   },
   "outputs": [],
   "source": [
    "# same sort of thing again only now we will consider the simpler case of a \n",
    "# homopolymer (only one type of building block)\n",
    "\n",
    "a = rdkit.MolFromSmiles('Brc1cnc(Br)cn1')\n",
    "rdkit.AddHs(a)\n",
    "rdkit.AllChem.EmbedMolecule(a, rdkit.AllChem.ETKDG())\n",
    "\n",
    "A = stk.StructUnit2.rdkit_init(a, 'bromine')\n",
    "\n",
    "polymer = stk.Polymer([A], stk.Linear(\"A\", [0], n=8))\n",
    "\n",
    "stk.rdkit_ETKDG(polymer)\n",
    "\n",
    "polymer.write('isabelle-test.mol')"
   ]
  },
  {
   "cell_type": "markdown",
   "metadata": {},
   "source": [
    "## 3. Performing a conformer search"
   ]
  },
  {
   "cell_type": "code",
   "execution_count": 7,
   "metadata": {},
   "outputs": [
    {
     "name": "stdout",
     "output_type": "stream",
     "text": [
      "conformer: 0 energy: 708.8462641397347\n",
      "conformer: 1 energy: 693.3771722394251\n",
      "conformer: 2 energy: 655.6824426119254\n",
      "conformer: 37 energy: 652.5106814552204\n",
      "conformer: 84 energy: 628.4988511988192\n"
     ]
    }
   ],
   "source": [
    "'''\n",
    "Thanks to their many rotatable bonds, polymers usually have many conformers (different orientations\n",
    "of the roatable bonds). We may then wish to onlu consider the lowest energy among these. To obtain this, \n",
    "we must perform a conformer search. The function below does exactly this, taking advantage of inbuilt\n",
    "functions of rdkit.\n",
    "'''\n",
    "\n",
    "def conformer_search(mol, nconfs):\n",
    "    \n",
    "    confs = rdkit.AllChem.EmbedMultipleConfs(mol, nconfs, rdkit.AllChem.ETKDG()) \n",
    "    rdkit.SanitizeMol(mol)    \n",
    "    \n",
    "    lowest_energy = 1000000000\n",
    "    for conf in confs:\n",
    "        ff = rdkit.AllChem.MMFFGetMoleculeForceField(mol, rdkit.AllChem.MMFFGetMoleculeProperties(mol), confId=conf)\n",
    "        ff.Initialize()\n",
    "        energy = ff.CalcEnergy()\n",
    "    \n",
    "        if energy < lowest_energy:\n",
    "            lowest_energy = energy\n",
    "            lowest_conf = conf\n",
    "            print('conformer:', conf, 'energy:', energy)\n",
    "    \n",
    "    rdkit.MolToMolFile(mol, 'conformer-search-output.mol', confId=lowest_conf)\n",
    "    \n",
    "conformer_search(polymer.mol, 300) # when we call the function, we see the lowest conformer as it is found"
   ]
  },
  {
   "cell_type": "markdown",
   "metadata": {},
   "source": [
    "## 4. Wrapping polymer building into a function#"
   ]
  },
  {
   "cell_type": "code",
   "execution_count": 5,
   "metadata": {
    "collapsed": true
   },
   "outputs": [],
   "source": [
    "''' \n",
    "Normally, we don't want a lot of straggling code. Below is an example of the polymer building process in \n",
    "part 1 wrapped into a function, which takes 2 arguments: smiles1 and smiles2. These represent the \n",
    "monomer building blocks that will be used to make the polymer.\n",
    "'''\n",
    "\n",
    "def build_polymer(smiles1, smiles2):\n",
    "    \n",
    "    a = rdkit.MolFromSmiles(smiles1)\n",
    "    rdkit.AddHs(a)\n",
    "    rdkit.AllChem.EmbedMolecule(a, rdkit.AllChem.ETKDG())\n",
    "\n",
    "    b = rdkit.MolFromSmiles(smiles2)\n",
    "    rdkit.AddHs(b)\n",
    "    rdkit.AllChem.EmbedMolecule(b, rdkit.AllChem.ETKDG())\n",
    "\n",
    "    A = stk.StructUnit2.rdkit_init(a, 'bromine')\n",
    "    B = stk.StructUnit2.rdkit_init(b, 'bromine')\n",
    "\n",
    "    polymer = stk.Polymer([A, B], stk.Linear(\"AB\", [0, 0], n=4))\n",
    "\n",
    "    stk.rdkit_ETKDG(polymer)\n",
    "\n",
    "    polymer.write('isabelle-test.mol')\n",
    "    \n",
    "    return polymer"
   ]
  },
  {
   "cell_type": "code",
   "execution_count": 6,
   "metadata": {},
   "outputs": [
    {
     "data": {
      "text/plain": [
       "Polymer(building_blocks=[\"StructUnit2 ['bromine', 'InChI=1S/C6H4Br2/c7-5-1-2-6(8)4-3-5/h1-4H']\", \"StructUnit2 ['bromine', 'InChI=1S/C6H4Br2/c7-5-1-2-6(8)4-3-5/h1-4H']\"], topology=Linear(ends='h', n=4, orientation=[0, 0], repeating_unit='AB'))"
      ]
     },
     "execution_count": 6,
     "metadata": {},
     "output_type": "execute_result"
    }
   ],
   "source": [
    " build_polymer('Brc1ccc(Br)cc1', 'Brc1ccc(Br)cc1') # here we call the above function which builds a polymer"
   ]
  },
  {
   "cell_type": "code",
   "execution_count": null,
   "metadata": {
    "collapsed": true
   },
   "outputs": [],
   "source": []
  }
 ],
 "metadata": {
  "kernelspec": {
   "display_name": "Python 3",
   "language": "python",
   "name": "python3"
  },
  "language_info": {
   "codemirror_mode": {
    "name": "ipython",
    "version": 3
   },
   "file_extension": ".py",
   "mimetype": "text/x-python",
   "name": "python",
   "nbconvert_exporter": "python",
   "pygments_lexer": "ipython3",
   "version": "3.6.2"
  }
 },
 "nbformat": 4,
 "nbformat_minor": 2
}
